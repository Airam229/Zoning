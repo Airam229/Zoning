{
 "cells": [
  {
   "cell_type": "markdown",
   "metadata": {},
   "source": [
    "# COGS 108 - Project Proposal"
   ]
  },
  {
   "cell_type": "markdown",
   "metadata": {},
   "source": [
    "# Names\n",
    "\n",
    "- Zeke Wang\n",
    "- Aryan Dixit\n",
    "- Shien Tioh\n",
    "- Airam Cervantes\n",
    "- Chris Enotiadis"
   ]
  },
  {
   "cell_type": "markdown",
   "metadata": {},
   "source": [
    "# Research Question"
   ]
  },
  {
   "cell_type": "markdown",
   "metadata": {},
   "source": [
    "How does proximity to and the prevalence (number and type) of public transit stations (bus or rail) influence rental prices across San Diego neighborhoods as well as over time (prior to station construction versus after operations were initiated), and at what average distance from any transit station does this price effect significantly diminish? Can we predict the price effect of planned transit developments on a neighborhood's rental pricing?",
    "\n"
   ]
  },
  {
   "cell_type": "markdown",
   "metadata": {},
   "source": [
    "## Background and Prior Work"
   ]
  },
  {
   "cell_type": "markdown",
   "metadata": {},
   "source": [
  "\n",
"Housing and rent affordability has over the years become a center point of concern for residents of San Diego. We are interested in learning the dynamics and influences that the implementation of public transit across neighborhoods of San Diego has on housing and rent affordability. Housing and transportation are on record for being the two largest household expenses according to the California Department of Housing and Community Development, placing both household expenses as factors that directly contribute to cost of living.<a name=\"cite_ref-1\"></a>[<sup>1</sup>](#cite_note-1) Rent is an expense that causes financial strain among many residents in a city. A previous group project, Airbnb-Group058 Final Project, approached a similar problem as they were tasked with analyzing rentals and creating predictive models to predict Airbnb rental pricing in San Diego. The group project concluded with creating a successful predictive model that could help predict prices in specified listings.<a name=\"cite_ref-2\"></a>[<sup>2</sup>](#cite_note-2) Our project primarily focuses on general rental in San Diego rather than solely Airbnb, but what was learned through this previous group project is that rental datasets can be integrated into predictive models to pretend trends of rental prices in the city of San Diego. \n",
    "\n",
"Our project seeks to analyze the correlations between the spatial distances from public transit and the costs of rent in the neighborhoods of San Diego. The City of San Diego's Metropolitan Transit System has almost 100 fixed bus routes in operation, including urban, local, and rural routes.<a name=\"cite_ref-3\"></a>[<sup>3</sup>](#cite_note-3) It also contains a light rail service that is operated by the SDTI system consisting of five separate lines, UC San Diego Blue, Green, Orange, Silver and Copper lines with a total 65 miles of rail across 62 stations <a name=\"cite_ref-3\"></a>[<sup>3</sup>](#cite_note-3)This allows public transit to provide improvements in general commuting among the city. However, residents who do happen to live near transit are notably lower-income, and are experiencing the rise of costs in these areas as they increasingly become less affordable. <a name=\"cite_ref-1\"></a>[<sup>1</sup>](#cite_note-1) The rental market trends in San Diego estimate that as a whole, the average rent for an apartment is around $2,296-$3,699 in 2025<a name=\"cite_ref-4\"></a>[<sup>4</sup>](#cite_note-4) \n",
    "\n",
"We are taking into consideration whether higher demand for housing near transit areas could potentially be the reason many individuals could find themselves priced out from areas with high amounts of accessible public transportation. A similar study was done analyzing the role of accessibility to buses in determining housing prices in Xiamen China that developed spatial econometric models that helped estimate global and local relationships between bus accessibility and housing prices.<a name=\"cite_ref-5\"></a>[<sup>5</sup>](#cite_note-5) This study specifically focuses on whether there is an effect on property price and value through bus accessibility. The study findings suggest that accessibility to buses does positively affect nearby property prices, making them more high in demand, bus travel time to city centers and bus frequency also were found to have a significant effect on property prices.<a name=\"cite_ref-5\"></a>[<sup>5</sup>](#cite_note-5)  This study suggests that there is a potential cost effect in city areas that contain accessible public transit. Another similar research analysis focused on how the proximity to transport affects the property value in San Diego, and how the transit-oriented development had a large effect on San Diego's real estate market.<a name=\"cite_ref-6\"></a>[<sup>6</sup>](#cite_note-6) The research found that studies show properties that are near high-capacity transit lines experience a transit premium of up to 150%, concluding that investors and buyers should consider the proximity to public transit when making investment decisions.<a name=\"cite_ref-6\"></a>[<sup>6</sup>](#cite_note-6) These findings help create a strong argument for  a general correlation between public transit and the fluctuation of housing prices.\n",
    "\n",
"Overall, our project is primarily focused on the correlation between rent prices and proximity to public transit. However, the previous work and research allows for us to lay the foundation of the direct correlation between the housing and rental markets and public transit.\n",
     "\n",
    "1. <a name=\"cite_note-1\"></a> [^](#cite_ref-1) “Housing and Transportation.” California Department of Housing and Community Development, www.hcd.ca.gov/policy-and-research/intersectional-policy-work/housing-and-transportation#:~:text=Over%2DCommuting&text=Housing%20near%20transit%20is%20in,similar%20homes%20further%20from%20transit.\n",
    "2. <a name=\"cite_note-2\"></a> [^](#cite_ref-2) “FinalProject_group058.” : COGS108, github.com/COGS108/FinalProjects-Wi20/blob/master/FinalProject_group058.ipynb.\n",
    "3. <a name=\"cite_note-3\"></a> [^](#cite_ref-3) “About MTS.” San Diego Metropolitan Transit System, 23 Sept. 2024, www.sdmts.com/about/about-mts.\n",
    "4. <a name=\"cite_note-4\"></a> [^](#cite_ref-4) Rental Market Trends”: www.rent.com/california/san-diego-apartments/rent-trends.\n",
    "5. <a name=\"cite_note-5\"></a> [^](#cite_ref-5) “Accessibility to Transit, by Transit, and Property Prices: Spatially Varying Relationships.” Transportation Research Part D: Transport and Environment, Pergamon, 10 June 2020, www.sciencedirect.com/science/article/pii/S1361920920305745#s0085.\n",
    "6. <a name=\"cite_note-6\"></a> [^](#cite_ref-6) “How Proximity to Transport Affects San Diego Property.” The Zion Group, 9 Mar. 2024, : theziongrp.com/2024/03/09/how-proximity-to-transport-affects-san-diego-property/.\n"
  ]
},
  {
   "cell_type": "markdown",
   "metadata": {},
   "source": [
    "# Hypothesis\n"
   ]
  },
  {
   "cell_type": "markdown",
   "metadata": {},
   "source": [
    "We predict that there is a negative correlation between the distance from a public transport and the cost of rent/a house. This is because we believe that easy access to public transport adds value to a residential location and would thus increase the cost of renting or buying a house.",
    "\n"
   ]
  },
  {
   "cell_type": "markdown",
   "metadata": {},
   "source": [
    "# Data"
   ]
  },
  {
   "cell_type": "markdown",
   "metadata": {},
   "source": [
    "To effectively answer our research question, our ideal dataset would possibly include the following:\n",
    "- Location data for rental listings\n",
    "- Rental price\n",
    "- Date of listing\n",
    "- Property characteristics (such as number of bedrooms, square footage, building type)\n",
    "- Distance to nearest public transit station (bus or rail)\n",
    "- Transit station data, including location, type, and opening date\n",
    "\n",
    "We would ideally collect data over the past decade or so, totaling tens of thousands of rental listings to ensure reliable analysis. \n",
    "\n",
    "### Specific Datasets:\n",
    "1. Zillow Observed Rent Index: https://www.zillow.com/research/data/\n",
    "2. San Diego Open Data Portal – Housing & Neighborhoods(has transit locations as well): https://data.sandiego.gov/datasets/\n",
    "1. San Diego MTS Rideship: https://www.sdmts.com/about/reports-records-and-policies\n"

   ]
  },
  {
   "cell_type": "markdown",
   "metadata": {},
   "source": [
    "# Ethics & Privacy"
   ]
  },
  {
   "cell_type": "markdown",
   "metadata": {},
   "source": [
    "There should be no major ethical concerns regarding this project. Since we are collecting public data regarding prices of homes and distance from public transport, there should be no privacy concerns. There are two biases however, one being that tenants would mostly consist of middle/lower class people as its unlikely upper class people would be near public transport locations. This bias would work in our favor as the prices of rich homes would be a likely outlier, skweing our results. The other bias is that we are not including individual rental agreements as we are not easily able to access that kind of information. Without proper wording and clear communication of what we are reasearching, we could give a false sense of the prices of rent, which could lead to landlords taking advantage and raising rent with this reasearch as evidence. The way we will combat this potential issue is word our paper very explicitly about what we are measuring in this project. Finally, we will account for different levels of house quality by comparing houses of similar quality.",
    "\n"
   ]
  },
  {
   "cell_type": "markdown",
   "metadata": {},
   "source": [
    "# Team Expectations "
   ]
  },
  {
   "cell_type": "markdown",
   "metadata": {},
   "source": [
    "\n",
    "Read over the [COGS108 Team Policies](https://github.com/COGS108/Projects/blob/master/COGS108_TeamPolicies.md) individually. Then, include your group’s expectations of one another for successful completion of your COGS108 project below. Discuss and agree on what all of your expectations are. Discuss how your team will communicate throughout the quarter and consider how you will communicate respectfully should conflicts arise. By including each member’s name above and by adding their name to the submission, you are indicating that you have read the COGS108 Team Policies, accept your team’s expectations below, and have every intention to fulfill them. These expectations are for your team’s use and benefit — they won’t be graded for their details.\n",
    "\n",
    "* *Communicate concerns and alert groupmates of emergencies as soon as possible and be sure to reply in a timely manner (2 days max)*\n",
    "* *Offer and accept feedback respectfully—focus on ideas, not individuals; address disagreements calmly and seek compromise.*\n",
    "* *Make sure to attend all meetings and perform tasks allocated per group member in a manner prior to the deadline.*\n",
    "* *Demonstrate responsibility and adaptability throughout the project.*\n",
    "* *Demonstrate full commitment to the completion of the project by each deadline.*\n"
   ]
  },
  {
   "cell_type": "markdown",
   "metadata": {},
   "source": [
    "# Project Timeline Proposal"
   ]
  },
  {
   "cell_type": "markdown",
   "metadata": {},
   "source": [
    "| Meeting Date  | Meeting Time| Completed Before Meeting  | Discuss at Meeting |\n",
    "|---|---|---|---|\n",
    "| 4/29  |  7 PM | Read & Think about COGS 108 expectations; brainstorm topics/questions  | Determine best form of communication; Discuss and decide on final project topic; discuss hypothesis; begin background research, Assign tasks to each person to complete for due date on the 30th | \n",
    "| 5/6  |  7 PM |  Do more background research on topic | Discuss ideal dataset(s) and ethics; assign new tasks and work on them. | \n",
    "| 5/13  | 7 PM  | Discuss Wrangling and possible analytical approaches  | Group members discuss each specific part and the work that has been completed, providing feedback for each person.   |\n",
    "| 5/20  | 7 PM  | Import & Wrangle Data (Ant Man); EDA (Hulk) | Review/Edit wrangling/EDA; Discuss Analysis Plan   |\n",
    "| 5/27  | 7 PM  | Finalize wrangling/EDA; Begin Analysis (Iron Man; Thor) | Discuss/edit Analysis; Complete project check-in |\n",
    "| 6/3  | 7 PM  | Complete analysis; Draft results/conclusion/discussion | Discuss/edit full project |\n",
    "| 6/11  | Before 11:59 PM  | NA | Turn in Final Project & Group Project Surveys |"
   ]
  }
 ],
 "metadata": {
  "kernelspec": {
   "display_name": "Python 3 (ipykernel)",
   "language": "python",
   "name": "python3"
  },
  "language_info": {
   "codemirror_mode": {
    "name": "ipython",
    "version": 3
   },
   "file_extension": ".py",
   "mimetype": "text/x-python",
   "name": "python",
   "nbconvert_exporter": "python",
   "pygments_lexer": "ipython3",
   "version": "3.9.7"
  }
 },
 "nbformat": 4,
 "nbformat_minor": 2
}
